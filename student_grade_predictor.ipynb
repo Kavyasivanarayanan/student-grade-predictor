{
 "cells": [
  {
   "cell_type": "markdown",
   "id": "c61a75e1",
   "metadata": {},
   "source": [
    "# 🎓 Student Grade Predictor\n",
    "This notebook predicts whether a student has passed or failed based on their average marks in three subjects."
   ]
  },
  {
   "cell_type": "code",
   "execution_count": null,
   "id": "bdcac719",
   "metadata": {},
   "outputs": [],
   "source": [
    "import pandas as pd"
   ]
  },
  {
   "cell_type": "markdown",
   "id": "3ee649c6",
   "metadata": {},
   "source": [
    "### 📥 Load the dataset"
   ]
  },
  {
   "cell_type": "code",
   "execution_count": null,
   "id": "c2a7c27d",
   "metadata": {},
   "outputs": [],
   "source": [
    "df = pd.read_csv('students.csv')\n",
    "df"
   ]
  },
  {
   "cell_type": "markdown",
   "id": "7d67ca8f",
   "metadata": {},
   "source": [
    "### 📊 Calculate Average Marks"
   ]
  },
  {
   "cell_type": "code",
   "execution_count": null,
   "id": "aebf5a95",
   "metadata": {},
   "outputs": [],
   "source": [
    "df['Average'] = df[['Maths', 'Science', 'English']].mean(axis=1)\n",
    "df"
   ]
  },
  {
   "cell_type": "markdown",
   "id": "59c5b00a",
   "metadata": {},
   "source": [
    "### ✅ Predict Pass/Fail Status"
   ]
  },
  {
   "cell_type": "code",
   "execution_count": null,
   "id": "bf5adf29",
   "metadata": {},
   "outputs": [],
   "source": [
    "df['Result'] = df['Average'].apply(lambda x: 'Pass' if x >= 40 else 'Fail')\n",
    "df"
   ]
  },
  {
   "cell_type": "markdown",
   "id": "2edf9827",
   "metadata": {},
   "source": [
    "### 📝 Final Output"
   ]
  },
  {
   "cell_type": "code",
   "execution_count": null,
   "id": "f4122365",
   "metadata": {},
   "outputs": [],
   "source": [
    "print(df[['Student_ID', 'Average', 'Result']])"
   ]
  }
 ],
 "metadata": {},
 "nbformat": 4,
 "nbformat_minor": 5
}
